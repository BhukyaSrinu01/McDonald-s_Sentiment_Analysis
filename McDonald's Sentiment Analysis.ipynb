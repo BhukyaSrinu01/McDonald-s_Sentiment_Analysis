{
 "cells": [
  {
   "cell_type": "markdown",
   "id": "d220c8cf",
   "metadata": {},
   "source": [
    "# McDonald's Sentiment Analysis\n",
    "In the sentiment analysis section, I imported the dataset and examined its columns, head, sample records, and information to gain a better understanding of the data. I then utilized the SentimentIntensityAnalyzer, a popular sentiment analysis tool, to calculate sentiment scores for each text entry. Based on these sentiment scores, I classified the text into different sentiment categories. For example, if the sentiment score was positive, I flagged the text as positive sentiment. Similarly, for negative sentiment scores, I labeled the text as negative sentiment. This process allowed me to categorize the dataset based on sentiment and gain insights into the overall sentiment distribution."
   ]
  },
  {
   "cell_type": "code",
   "execution_count": 3,
   "id": "9700b811",
   "metadata": {},
   "outputs": [],
   "source": [
    "# Importing Libraries\n",
    "import numpy as np\n",
    "import pandas as pd\n",
    "import matplotlib.pyplot as plt\n",
    "import seaborn as sns\n",
    "import warnings\n",
    "warnings.filterwarnings('ignore')\n",
    "import nltk\n",
    "from nltk.sentiment import SentimentIntensityAnalyzer"
   ]
  },
  {
   "cell_type": "code",
   "execution_count": 4,
   "id": "3fec0479",
   "metadata": {},
   "outputs": [],
   "source": [
    "#Load the dataset\n",
    "data = pd.read_csv(r'C:\\Users\\Shiva\\Downloads\\FSDS---srinu\\kaggle,linkedin\\GITHUB\\McDonald-s_Sentiment_Analysis-main\\McDonald-s_Sentiment_Analysis-main\\McDonald_s_Reviews.csv',encoding='latin-1')"
   ]
  },
  {
   "cell_type": "markdown",
   "id": "516933a8",
   "metadata": {},
   "source": [
    "# Domain Analysis\n",
    "\n",
    "reviewer_id: Unique identifier for each reviewer (anonymized)\n",
    "    \n",
    "store_name: Name of the McDonald's store\n",
    "    \n",
    "category: Category or type of the store\n",
    "    \n",
    "store_address: Address of the store\n",
    "    \n",
    "latitude: Latitude coordinate of the store's location\n",
    "    \n",
    "longitude: Longitude coordinate of the store's location\n",
    "    \n",
    "rating_count: Number of ratings/reviews for the store\n",
    "    \n",
    "review_time: Timestamp of the review\n",
    "    \n",
    "review: Textual content of the review\n",
    "    \n",
    "rating: Rating provided by the reviewer"
   ]
  },
  {
   "cell_type": "code",
   "execution_count": 5,
   "id": "023fcbed",
   "metadata": {},
   "outputs": [
    {
     "data": {
      "text/html": [
       "<div>\n",
       "<style scoped>\n",
       "    .dataframe tbody tr th:only-of-type {\n",
       "        vertical-align: middle;\n",
       "    }\n",
       "\n",
       "    .dataframe tbody tr th {\n",
       "        vertical-align: top;\n",
       "    }\n",
       "\n",
       "    .dataframe thead th {\n",
       "        text-align: right;\n",
       "    }\n",
       "</style>\n",
       "<table border=\"1\" class=\"dataframe\">\n",
       "  <thead>\n",
       "    <tr style=\"text-align: right;\">\n",
       "      <th></th>\n",
       "      <th>reviewer_id</th>\n",
       "      <th>store_name</th>\n",
       "      <th>category</th>\n",
       "      <th>store_address</th>\n",
       "      <th>latitude</th>\n",
       "      <th>longitude</th>\n",
       "      <th>rating_count</th>\n",
       "      <th>review_time</th>\n",
       "      <th>review</th>\n",
       "      <th>rating</th>\n",
       "    </tr>\n",
       "  </thead>\n",
       "  <tbody>\n",
       "    <tr>\n",
       "      <th>0</th>\n",
       "      <td>1</td>\n",
       "      <td>McDonald's</td>\n",
       "      <td>Fast food restaurant</td>\n",
       "      <td>13749 US-183 Hwy, Austin, TX 78750, United States</td>\n",
       "      <td>30.460718</td>\n",
       "      <td>-97.792874</td>\n",
       "      <td>1,240</td>\n",
       "      <td>3 months ago</td>\n",
       "      <td>Why does it look like someone spit on my food?...</td>\n",
       "      <td>1 star</td>\n",
       "    </tr>\n",
       "    <tr>\n",
       "      <th>1</th>\n",
       "      <td>2</td>\n",
       "      <td>McDonald's</td>\n",
       "      <td>Fast food restaurant</td>\n",
       "      <td>13749 US-183 Hwy, Austin, TX 78750, United States</td>\n",
       "      <td>30.460718</td>\n",
       "      <td>-97.792874</td>\n",
       "      <td>1,240</td>\n",
       "      <td>5 days ago</td>\n",
       "      <td>It'd McDonalds. It is what it is as far as the...</td>\n",
       "      <td>4 stars</td>\n",
       "    </tr>\n",
       "    <tr>\n",
       "      <th>2</th>\n",
       "      <td>3</td>\n",
       "      <td>McDonald's</td>\n",
       "      <td>Fast food restaurant</td>\n",
       "      <td>13749 US-183 Hwy, Austin, TX 78750, United States</td>\n",
       "      <td>30.460718</td>\n",
       "      <td>-97.792874</td>\n",
       "      <td>1,240</td>\n",
       "      <td>5 days ago</td>\n",
       "      <td>Made a mobile order got to the speaker and che...</td>\n",
       "      <td>1 star</td>\n",
       "    </tr>\n",
       "    <tr>\n",
       "      <th>3</th>\n",
       "      <td>4</td>\n",
       "      <td>McDonald's</td>\n",
       "      <td>Fast food restaurant</td>\n",
       "      <td>13749 US-183 Hwy, Austin, TX 78750, United States</td>\n",
       "      <td>30.460718</td>\n",
       "      <td>-97.792874</td>\n",
       "      <td>1,240</td>\n",
       "      <td>a month ago</td>\n",
       "      <td>My mc. Crispy chicken sandwich was ï¿½ï¿½ï¿½ï¿...</td>\n",
       "      <td>5 stars</td>\n",
       "    </tr>\n",
       "    <tr>\n",
       "      <th>4</th>\n",
       "      <td>5</td>\n",
       "      <td>McDonald's</td>\n",
       "      <td>Fast food restaurant</td>\n",
       "      <td>13749 US-183 Hwy, Austin, TX 78750, United States</td>\n",
       "      <td>30.460718</td>\n",
       "      <td>-97.792874</td>\n",
       "      <td>1,240</td>\n",
       "      <td>2 months ago</td>\n",
       "      <td>I repeat my order 3 times in the drive thru, a...</td>\n",
       "      <td>1 star</td>\n",
       "    </tr>\n",
       "  </tbody>\n",
       "</table>\n",
       "</div>"
      ],
      "text/plain": [
       "   reviewer_id  store_name              category  \\\n",
       "0            1  McDonald's  Fast food restaurant   \n",
       "1            2  McDonald's  Fast food restaurant   \n",
       "2            3  McDonald's  Fast food restaurant   \n",
       "3            4  McDonald's  Fast food restaurant   \n",
       "4            5  McDonald's  Fast food restaurant   \n",
       "\n",
       "                                       store_address  latitude   longitude  \\\n",
       "0  13749 US-183 Hwy, Austin, TX 78750, United States  30.460718 -97.792874   \n",
       "1  13749 US-183 Hwy, Austin, TX 78750, United States  30.460718 -97.792874   \n",
       "2  13749 US-183 Hwy, Austin, TX 78750, United States  30.460718 -97.792874   \n",
       "3  13749 US-183 Hwy, Austin, TX 78750, United States  30.460718 -97.792874   \n",
       "4  13749 US-183 Hwy, Austin, TX 78750, United States  30.460718 -97.792874   \n",
       "\n",
       "  rating_count   review_time  \\\n",
       "0        1,240  3 months ago   \n",
       "1        1,240    5 days ago   \n",
       "2        1,240    5 days ago   \n",
       "3        1,240   a month ago   \n",
       "4        1,240  2 months ago   \n",
       "\n",
       "                                              review   rating  \n",
       "0  Why does it look like someone spit on my food?...   1 star  \n",
       "1  It'd McDonalds. It is what it is as far as the...  4 stars  \n",
       "2  Made a mobile order got to the speaker and che...   1 star  \n",
       "3  My mc. Crispy chicken sandwich was ï¿½ï¿½ï¿½ï¿...  5 stars  \n",
       "4  I repeat my order 3 times in the drive thru, a...   1 star  "
      ]
     },
     "execution_count": 5,
     "metadata": {},
     "output_type": "execute_result"
    }
   ],
   "source": [
    "# Firts five rows\n",
    "data.head()"
   ]
  },
  {
   "cell_type": "code",
   "execution_count": 6,
   "id": "d04ce162",
   "metadata": {},
   "outputs": [
    {
     "data": {
      "text/html": [
       "<div>\n",
       "<style scoped>\n",
       "    .dataframe tbody tr th:only-of-type {\n",
       "        vertical-align: middle;\n",
       "    }\n",
       "\n",
       "    .dataframe tbody tr th {\n",
       "        vertical-align: top;\n",
       "    }\n",
       "\n",
       "    .dataframe thead th {\n",
       "        text-align: right;\n",
       "    }\n",
       "</style>\n",
       "<table border=\"1\" class=\"dataframe\">\n",
       "  <thead>\n",
       "    <tr style=\"text-align: right;\">\n",
       "      <th></th>\n",
       "      <th>reviewer_id</th>\n",
       "      <th>store_name</th>\n",
       "      <th>category</th>\n",
       "      <th>store_address</th>\n",
       "      <th>latitude</th>\n",
       "      <th>longitude</th>\n",
       "      <th>rating_count</th>\n",
       "      <th>review_time</th>\n",
       "      <th>review</th>\n",
       "      <th>rating</th>\n",
       "    </tr>\n",
       "  </thead>\n",
       "  <tbody>\n",
       "    <tr>\n",
       "      <th>33391</th>\n",
       "      <td>33392</td>\n",
       "      <td>McDonald's</td>\n",
       "      <td>Fast food restaurant</td>\n",
       "      <td>3501 Biscayne Blvd, Miami, FL 33137, United St...</td>\n",
       "      <td>25.81</td>\n",
       "      <td>-80.189098</td>\n",
       "      <td>2,810</td>\n",
       "      <td>4 years ago</td>\n",
       "      <td>They treated me very badly.</td>\n",
       "      <td>1 star</td>\n",
       "    </tr>\n",
       "    <tr>\n",
       "      <th>33392</th>\n",
       "      <td>33393</td>\n",
       "      <td>McDonald's</td>\n",
       "      <td>Fast food restaurant</td>\n",
       "      <td>3501 Biscayne Blvd, Miami, FL 33137, United St...</td>\n",
       "      <td>25.81</td>\n",
       "      <td>-80.189098</td>\n",
       "      <td>2,810</td>\n",
       "      <td>a year ago</td>\n",
       "      <td>The service is very good</td>\n",
       "      <td>5 stars</td>\n",
       "    </tr>\n",
       "    <tr>\n",
       "      <th>33393</th>\n",
       "      <td>33394</td>\n",
       "      <td>McDonald's</td>\n",
       "      <td>Fast food restaurant</td>\n",
       "      <td>3501 Biscayne Blvd, Miami, FL 33137, United St...</td>\n",
       "      <td>25.81</td>\n",
       "      <td>-80.189098</td>\n",
       "      <td>2,810</td>\n",
       "      <td>a year ago</td>\n",
       "      <td>To remove hunger is enough</td>\n",
       "      <td>4 stars</td>\n",
       "    </tr>\n",
       "    <tr>\n",
       "      <th>33394</th>\n",
       "      <td>33395</td>\n",
       "      <td>McDonald's</td>\n",
       "      <td>Fast food restaurant</td>\n",
       "      <td>3501 Biscayne Blvd, Miami, FL 33137, United St...</td>\n",
       "      <td>25.81</td>\n",
       "      <td>-80.189098</td>\n",
       "      <td>2,810</td>\n",
       "      <td>5 years ago</td>\n",
       "      <td>It's good, but lately it has become very expen...</td>\n",
       "      <td>5 stars</td>\n",
       "    </tr>\n",
       "    <tr>\n",
       "      <th>33395</th>\n",
       "      <td>33396</td>\n",
       "      <td>McDonald's</td>\n",
       "      <td>Fast food restaurant</td>\n",
       "      <td>3501 Biscayne Blvd, Miami, FL 33137, United St...</td>\n",
       "      <td>25.81</td>\n",
       "      <td>-80.189098</td>\n",
       "      <td>2,810</td>\n",
       "      <td>2 years ago</td>\n",
       "      <td>they took good care of me</td>\n",
       "      <td>5 stars</td>\n",
       "    </tr>\n",
       "  </tbody>\n",
       "</table>\n",
       "</div>"
      ],
      "text/plain": [
       "       reviewer_id  store_name              category  \\\n",
       "33391        33392  McDonald's  Fast food restaurant   \n",
       "33392        33393  McDonald's  Fast food restaurant   \n",
       "33393        33394  McDonald's  Fast food restaurant   \n",
       "33394        33395  McDonald's  Fast food restaurant   \n",
       "33395        33396  McDonald's  Fast food restaurant   \n",
       "\n",
       "                                           store_address  latitude   \\\n",
       "33391  3501 Biscayne Blvd, Miami, FL 33137, United St...      25.81   \n",
       "33392  3501 Biscayne Blvd, Miami, FL 33137, United St...      25.81   \n",
       "33393  3501 Biscayne Blvd, Miami, FL 33137, United St...      25.81   \n",
       "33394  3501 Biscayne Blvd, Miami, FL 33137, United St...      25.81   \n",
       "33395  3501 Biscayne Blvd, Miami, FL 33137, United St...      25.81   \n",
       "\n",
       "       longitude rating_count  review_time  \\\n",
       "33391 -80.189098        2,810  4 years ago   \n",
       "33392 -80.189098        2,810   a year ago   \n",
       "33393 -80.189098        2,810   a year ago   \n",
       "33394 -80.189098        2,810  5 years ago   \n",
       "33395 -80.189098        2,810  2 years ago   \n",
       "\n",
       "                                                  review   rating  \n",
       "33391                        They treated me very badly.   1 star  \n",
       "33392                           The service is very good  5 stars  \n",
       "33393                         To remove hunger is enough  4 stars  \n",
       "33394  It's good, but lately it has become very expen...  5 stars  \n",
       "33395                          they took good care of me  5 stars  "
      ]
     },
     "execution_count": 6,
     "metadata": {},
     "output_type": "execute_result"
    }
   ],
   "source": [
    "# last few rows\n",
    "data.tail()"
   ]
  },
  {
   "cell_type": "code",
   "execution_count": 7,
   "id": "4a0cefe8",
   "metadata": {},
   "outputs": [
    {
     "data": {
      "text/plain": [
       "(33396, 10)"
      ]
     },
     "execution_count": 7,
     "metadata": {},
     "output_type": "execute_result"
    }
   ],
   "source": [
    "# Shape of Data\n",
    "data.shape"
   ]
  },
  {
   "cell_type": "markdown",
   "id": "039d775a",
   "metadata": {},
   "source": [
    "Dataset contains 10 features with 33396 observations."
   ]
  },
  {
   "cell_type": "code",
   "execution_count": 8,
   "id": "5a28e45e",
   "metadata": {},
   "outputs": [
    {
     "name": "stdout",
     "output_type": "stream",
     "text": [
      "<class 'pandas.core.frame.DataFrame'>\n",
      "RangeIndex: 33396 entries, 0 to 33395\n",
      "Data columns (total 10 columns):\n",
      " #   Column         Non-Null Count  Dtype  \n",
      "---  ------         --------------  -----  \n",
      " 0   reviewer_id    33396 non-null  int64  \n",
      " 1   store_name     33396 non-null  object \n",
      " 2   category       33396 non-null  object \n",
      " 3   store_address  33396 non-null  object \n",
      " 4   latitude       32736 non-null  float64\n",
      " 5   longitude      32736 non-null  float64\n",
      " 6   rating_count   33396 non-null  object \n",
      " 7   review_time    33396 non-null  object \n",
      " 8   review         33396 non-null  object \n",
      " 9   rating         33396 non-null  object \n",
      "dtypes: float64(2), int64(1), object(7)\n",
      "memory usage: 2.5+ MB\n"
     ]
    }
   ],
   "source": [
    "# Columns in Data\n",
    "data.info()"
   ]
  },
  {
   "cell_type": "code",
   "execution_count": 10,
   "id": "3b79272c",
   "metadata": {},
   "outputs": [
    {
     "data": {
      "text/html": [
       "<div>\n",
       "<style scoped>\n",
       "    .dataframe tbody tr th:only-of-type {\n",
       "        vertical-align: middle;\n",
       "    }\n",
       "\n",
       "    .dataframe tbody tr th {\n",
       "        vertical-align: top;\n",
       "    }\n",
       "\n",
       "    .dataframe thead th {\n",
       "        text-align: right;\n",
       "    }\n",
       "</style>\n",
       "<table border=\"1\" class=\"dataframe\">\n",
       "  <thead>\n",
       "    <tr style=\"text-align: right;\">\n",
       "      <th></th>\n",
       "      <th>count</th>\n",
       "      <th>mean</th>\n",
       "      <th>std</th>\n",
       "      <th>min</th>\n",
       "      <th>25%</th>\n",
       "      <th>50%</th>\n",
       "      <th>75%</th>\n",
       "      <th>max</th>\n",
       "    </tr>\n",
       "  </thead>\n",
       "  <tbody>\n",
       "    <tr>\n",
       "      <th>reviewer_id</th>\n",
       "      <td>33396.0</td>\n",
       "      <td>16698.500000</td>\n",
       "      <td>9640.739131</td>\n",
       "      <td>1.000000</td>\n",
       "      <td>8349.750000</td>\n",
       "      <td>16698.500000</td>\n",
       "      <td>25047.250000</td>\n",
       "      <td>33396.00000</td>\n",
       "    </tr>\n",
       "    <tr>\n",
       "      <th>latitude</th>\n",
       "      <td>32736.0</td>\n",
       "      <td>34.442546</td>\n",
       "      <td>5.344116</td>\n",
       "      <td>25.790295</td>\n",
       "      <td>28.655350</td>\n",
       "      <td>33.931261</td>\n",
       "      <td>40.727401</td>\n",
       "      <td>44.98141</td>\n",
       "    </tr>\n",
       "    <tr>\n",
       "      <th>longitude</th>\n",
       "      <td>32736.0</td>\n",
       "      <td>-90.647033</td>\n",
       "      <td>16.594844</td>\n",
       "      <td>-121.995421</td>\n",
       "      <td>-97.792874</td>\n",
       "      <td>-81.471414</td>\n",
       "      <td>-75.399919</td>\n",
       "      <td>-73.45982</td>\n",
       "    </tr>\n",
       "  </tbody>\n",
       "</table>\n",
       "</div>"
      ],
      "text/plain": [
       "               count          mean          std         min          25%  \\\n",
       "reviewer_id  33396.0  16698.500000  9640.739131    1.000000  8349.750000   \n",
       "latitude     32736.0     34.442546     5.344116   25.790295    28.655350   \n",
       "longitude    32736.0    -90.647033    16.594844 -121.995421   -97.792874   \n",
       "\n",
       "                      50%           75%          max  \n",
       "reviewer_id  16698.500000  25047.250000  33396.00000  \n",
       "latitude        33.931261     40.727401     44.98141  \n",
       "longitude      -81.471414    -75.399919    -73.45982  "
      ]
     },
     "execution_count": 10,
     "metadata": {},
     "output_type": "execute_result"
    }
   ],
   "source": [
    "# Statistics of data\n",
    "data.describe().T"
   ]
  },
  {
   "cell_type": "code",
   "execution_count": 11,
   "id": "b9a2cff2",
   "metadata": {},
   "outputs": [
    {
     "data": {
      "text/html": [
       "<div>\n",
       "<style scoped>\n",
       "    .dataframe tbody tr th:only-of-type {\n",
       "        vertical-align: middle;\n",
       "    }\n",
       "\n",
       "    .dataframe tbody tr th {\n",
       "        vertical-align: top;\n",
       "    }\n",
       "\n",
       "    .dataframe thead th {\n",
       "        text-align: right;\n",
       "    }\n",
       "</style>\n",
       "<table border=\"1\" class=\"dataframe\">\n",
       "  <thead>\n",
       "    <tr style=\"text-align: right;\">\n",
       "      <th></th>\n",
       "      <th>store_name</th>\n",
       "      <th>category</th>\n",
       "      <th>store_address</th>\n",
       "      <th>rating_count</th>\n",
       "      <th>review_time</th>\n",
       "      <th>review</th>\n",
       "      <th>rating</th>\n",
       "    </tr>\n",
       "  </thead>\n",
       "  <tbody>\n",
       "    <tr>\n",
       "      <th>count</th>\n",
       "      <td>33396</td>\n",
       "      <td>33396</td>\n",
       "      <td>33396</td>\n",
       "      <td>33396</td>\n",
       "      <td>33396</td>\n",
       "      <td>33396</td>\n",
       "      <td>33396</td>\n",
       "    </tr>\n",
       "    <tr>\n",
       "      <th>unique</th>\n",
       "      <td>2</td>\n",
       "      <td>1</td>\n",
       "      <td>40</td>\n",
       "      <td>51</td>\n",
       "      <td>39</td>\n",
       "      <td>22285</td>\n",
       "      <td>5</td>\n",
       "    </tr>\n",
       "    <tr>\n",
       "      <th>top</th>\n",
       "      <td>McDonald's</td>\n",
       "      <td>Fast food restaurant</td>\n",
       "      <td>9814 International Dr, Orlando, FL 32819, Unit...</td>\n",
       "      <td>2,810</td>\n",
       "      <td>4 years ago</td>\n",
       "      <td>Excellent</td>\n",
       "      <td>5 stars</td>\n",
       "    </tr>\n",
       "    <tr>\n",
       "      <th>freq</th>\n",
       "      <td>33325</td>\n",
       "      <td>33396</td>\n",
       "      <td>1890</td>\n",
       "      <td>1140</td>\n",
       "      <td>6740</td>\n",
       "      <td>2148</td>\n",
       "      <td>10274</td>\n",
       "    </tr>\n",
       "  </tbody>\n",
       "</table>\n",
       "</div>"
      ],
      "text/plain": [
       "        store_name              category  \\\n",
       "count        33396                 33396   \n",
       "unique           2                     1   \n",
       "top     McDonald's  Fast food restaurant   \n",
       "freq         33325                 33396   \n",
       "\n",
       "                                            store_address rating_count  \\\n",
       "count                                               33396        33396   \n",
       "unique                                                 40           51   \n",
       "top     9814 International Dr, Orlando, FL 32819, Unit...        2,810   \n",
       "freq                                                 1890         1140   \n",
       "\n",
       "        review_time      review   rating  \n",
       "count         33396       33396    33396  \n",
       "unique           39       22285        5  \n",
       "top     4 years ago  Excellent   5 stars  \n",
       "freq           6740        2148    10274  "
      ]
     },
     "execution_count": 11,
     "metadata": {},
     "output_type": "execute_result"
    }
   ],
   "source": [
    "# Statistics of data for categorical data\n",
    "data.describe(include='O')"
   ]
  },
  {
   "cell_type": "markdown",
   "id": "f0e822f6",
   "metadata": {},
   "source": [
    "# Sentiment Score Calculation"
   ]
  },
  {
   "cell_type": "code",
   "execution_count": 12,
   "id": "3fe845df",
   "metadata": {},
   "outputs": [],
   "source": [
    "s = SentimentIntensityAnalyzer()"
   ]
  },
  {
   "cell_type": "code",
   "execution_count": 13,
   "id": "6d80feac",
   "metadata": {},
   "outputs": [],
   "source": [
    "# Performing sentiment analysis on each review\n",
    "sentiments = []\n",
    "for review in data['review']:\n",
    "    sentiment = s.polarity_scores(review)\n",
    "    sentiments.append(sentiment)"
   ]
  },
  {
   "cell_type": "markdown",
   "id": "8ad49b3d",
   "metadata": {},
   "source": [
    "# Sentiment Classification"
   ]
  },
  {
   "cell_type": "code",
   "execution_count": 14,
   "id": "f6b39eb8",
   "metadata": {},
   "outputs": [],
   "source": [
    "sentiment_labels = []\n",
    "for sentiment in sentiments:\n",
    "    compound_score = sentiment['compound']\n",
    "    if compound_score >= -0.05:\n",
    "        sentiment_labels.append('positive')\n",
    "    elif compound_score <= -0.05:\n",
    "        sentiment_labels.append('Negative')\n",
    "    else:\n",
    "        sentiment_labels.append('Neutral')\n",
    "    "
   ]
  },
  {
   "cell_type": "code",
   "execution_count": 15,
   "id": "8d9830b6",
   "metadata": {},
   "outputs": [],
   "source": [
    "# Add the sentiment labels to the DataFrame\n",
    "data['sentiment'] = sentiment_labels"
   ]
  },
  {
   "cell_type": "code",
   "execution_count": 16,
   "id": "db7c3df8",
   "metadata": {},
   "outputs": [
    {
     "data": {
      "text/html": [
       "<div>\n",
       "<style scoped>\n",
       "    .dataframe tbody tr th:only-of-type {\n",
       "        vertical-align: middle;\n",
       "    }\n",
       "\n",
       "    .dataframe tbody tr th {\n",
       "        vertical-align: top;\n",
       "    }\n",
       "\n",
       "    .dataframe thead th {\n",
       "        text-align: right;\n",
       "    }\n",
       "</style>\n",
       "<table border=\"1\" class=\"dataframe\">\n",
       "  <thead>\n",
       "    <tr style=\"text-align: right;\">\n",
       "      <th></th>\n",
       "      <th>review</th>\n",
       "      <th>sentiment</th>\n",
       "    </tr>\n",
       "  </thead>\n",
       "  <tbody>\n",
       "    <tr>\n",
       "      <th>0</th>\n",
       "      <td>Why does it look like someone spit on my food?...</td>\n",
       "      <td>positive</td>\n",
       "    </tr>\n",
       "    <tr>\n",
       "      <th>1</th>\n",
       "      <td>It'd McDonalds. It is what it is as far as the...</td>\n",
       "      <td>positive</td>\n",
       "    </tr>\n",
       "    <tr>\n",
       "      <th>2</th>\n",
       "      <td>Made a mobile order got to the speaker and che...</td>\n",
       "      <td>Negative</td>\n",
       "    </tr>\n",
       "    <tr>\n",
       "      <th>3</th>\n",
       "      <td>My mc. Crispy chicken sandwich was ï¿½ï¿½ï¿½ï¿...</td>\n",
       "      <td>positive</td>\n",
       "    </tr>\n",
       "    <tr>\n",
       "      <th>4</th>\n",
       "      <td>I repeat my order 3 times in the drive thru, a...</td>\n",
       "      <td>Negative</td>\n",
       "    </tr>\n",
       "    <tr>\n",
       "      <th>...</th>\n",
       "      <td>...</td>\n",
       "      <td>...</td>\n",
       "    </tr>\n",
       "    <tr>\n",
       "      <th>33391</th>\n",
       "      <td>They treated me very badly.</td>\n",
       "      <td>Negative</td>\n",
       "    </tr>\n",
       "    <tr>\n",
       "      <th>33392</th>\n",
       "      <td>The service is very good</td>\n",
       "      <td>positive</td>\n",
       "    </tr>\n",
       "    <tr>\n",
       "      <th>33393</th>\n",
       "      <td>To remove hunger is enough</td>\n",
       "      <td>Negative</td>\n",
       "    </tr>\n",
       "    <tr>\n",
       "      <th>33394</th>\n",
       "      <td>It's good, but lately it has become very expen...</td>\n",
       "      <td>positive</td>\n",
       "    </tr>\n",
       "    <tr>\n",
       "      <th>33395</th>\n",
       "      <td>they took good care of me</td>\n",
       "      <td>positive</td>\n",
       "    </tr>\n",
       "  </tbody>\n",
       "</table>\n",
       "<p>33396 rows × 2 columns</p>\n",
       "</div>"
      ],
      "text/plain": [
       "                                                  review sentiment\n",
       "0      Why does it look like someone spit on my food?...  positive\n",
       "1      It'd McDonalds. It is what it is as far as the...  positive\n",
       "2      Made a mobile order got to the speaker and che...  Negative\n",
       "3      My mc. Crispy chicken sandwich was ï¿½ï¿½ï¿½ï¿...  positive\n",
       "4      I repeat my order 3 times in the drive thru, a...  Negative\n",
       "...                                                  ...       ...\n",
       "33391                        They treated me very badly.  Negative\n",
       "33392                           The service is very good  positive\n",
       "33393                         To remove hunger is enough  Negative\n",
       "33394  It's good, but lately it has become very expen...  positive\n",
       "33395                          they took good care of me  positive\n",
       "\n",
       "[33396 rows x 2 columns]"
      ]
     },
     "execution_count": 16,
     "metadata": {},
     "output_type": "execute_result"
    }
   ],
   "source": [
    "data[['review','sentiment']]"
   ]
  },
  {
   "cell_type": "markdown",
   "id": "0a0825fe",
   "metadata": {},
   "source": [
    "# Splitting dataset train & test"
   ]
  },
  {
   "cell_type": "code",
   "execution_count": 17,
   "id": "ba044adb",
   "metadata": {},
   "outputs": [],
   "source": [
    "X = data['review']\n",
    "y = data['sentiment']"
   ]
  },
  {
   "cell_type": "code",
   "execution_count": 19,
   "id": "285868e1",
   "metadata": {},
   "outputs": [],
   "source": [
    "from sklearn.model_selection import train_test_split\n",
    "X_train, X_test, y_train, y_test = train_test_split(X, y, test_size=0.2, random_state=42)"
   ]
  },
  {
   "cell_type": "code",
   "execution_count": 22,
   "id": "4e148231",
   "metadata": {},
   "outputs": [],
   "source": [
    "from sklearn.feature_extraction.text import TfidfVectorizer\n",
    "vectorizer = TfidfVectorizer()\n",
    "X_train_tfidf = vectorizer.fit_transform(X_train)\n",
    "X_test_tfidf = vectorizer.transform(X_test)"
   ]
  },
  {
   "cell_type": "markdown",
   "id": "5de9189f",
   "metadata": {},
   "source": [
    "# Support Vector Classifier"
   ]
  },
  {
   "cell_type": "code",
   "execution_count": 24,
   "id": "daef5e3d",
   "metadata": {},
   "outputs": [
    {
     "data": {
      "text/html": [
       "<style>#sk-container-id-1 {color: black;background-color: white;}#sk-container-id-1 pre{padding: 0;}#sk-container-id-1 div.sk-toggleable {background-color: white;}#sk-container-id-1 label.sk-toggleable__label {cursor: pointer;display: block;width: 100%;margin-bottom: 0;padding: 0.3em;box-sizing: border-box;text-align: center;}#sk-container-id-1 label.sk-toggleable__label-arrow:before {content: \"▸\";float: left;margin-right: 0.25em;color: #696969;}#sk-container-id-1 label.sk-toggleable__label-arrow:hover:before {color: black;}#sk-container-id-1 div.sk-estimator:hover label.sk-toggleable__label-arrow:before {color: black;}#sk-container-id-1 div.sk-toggleable__content {max-height: 0;max-width: 0;overflow: hidden;text-align: left;background-color: #f0f8ff;}#sk-container-id-1 div.sk-toggleable__content pre {margin: 0.2em;color: black;border-radius: 0.25em;background-color: #f0f8ff;}#sk-container-id-1 input.sk-toggleable__control:checked~div.sk-toggleable__content {max-height: 200px;max-width: 100%;overflow: auto;}#sk-container-id-1 input.sk-toggleable__control:checked~label.sk-toggleable__label-arrow:before {content: \"▾\";}#sk-container-id-1 div.sk-estimator input.sk-toggleable__control:checked~label.sk-toggleable__label {background-color: #d4ebff;}#sk-container-id-1 div.sk-label input.sk-toggleable__control:checked~label.sk-toggleable__label {background-color: #d4ebff;}#sk-container-id-1 input.sk-hidden--visually {border: 0;clip: rect(1px 1px 1px 1px);clip: rect(1px, 1px, 1px, 1px);height: 1px;margin: -1px;overflow: hidden;padding: 0;position: absolute;width: 1px;}#sk-container-id-1 div.sk-estimator {font-family: monospace;background-color: #f0f8ff;border: 1px dotted black;border-radius: 0.25em;box-sizing: border-box;margin-bottom: 0.5em;}#sk-container-id-1 div.sk-estimator:hover {background-color: #d4ebff;}#sk-container-id-1 div.sk-parallel-item::after {content: \"\";width: 100%;border-bottom: 1px solid gray;flex-grow: 1;}#sk-container-id-1 div.sk-label:hover label.sk-toggleable__label {background-color: #d4ebff;}#sk-container-id-1 div.sk-serial::before {content: \"\";position: absolute;border-left: 1px solid gray;box-sizing: border-box;top: 0;bottom: 0;left: 50%;z-index: 0;}#sk-container-id-1 div.sk-serial {display: flex;flex-direction: column;align-items: center;background-color: white;padding-right: 0.2em;padding-left: 0.2em;position: relative;}#sk-container-id-1 div.sk-item {position: relative;z-index: 1;}#sk-container-id-1 div.sk-parallel {display: flex;align-items: stretch;justify-content: center;background-color: white;position: relative;}#sk-container-id-1 div.sk-item::before, #sk-container-id-1 div.sk-parallel-item::before {content: \"\";position: absolute;border-left: 1px solid gray;box-sizing: border-box;top: 0;bottom: 0;left: 50%;z-index: -1;}#sk-container-id-1 div.sk-parallel-item {display: flex;flex-direction: column;z-index: 1;position: relative;background-color: white;}#sk-container-id-1 div.sk-parallel-item:first-child::after {align-self: flex-end;width: 50%;}#sk-container-id-1 div.sk-parallel-item:last-child::after {align-self: flex-start;width: 50%;}#sk-container-id-1 div.sk-parallel-item:only-child::after {width: 0;}#sk-container-id-1 div.sk-dashed-wrapped {border: 1px dashed gray;margin: 0 0.4em 0.5em 0.4em;box-sizing: border-box;padding-bottom: 0.4em;background-color: white;}#sk-container-id-1 div.sk-label label {font-family: monospace;font-weight: bold;display: inline-block;line-height: 1.2em;}#sk-container-id-1 div.sk-label-container {text-align: center;}#sk-container-id-1 div.sk-container {/* jupyter's `normalize.less` sets `[hidden] { display: none; }` but bootstrap.min.css set `[hidden] { display: none !important; }` so we also need the `!important` here to be able to override the default hidden behavior on the sphinx rendered scikit-learn.org. See: https://github.com/scikit-learn/scikit-learn/issues/21755 */display: inline-block !important;position: relative;}#sk-container-id-1 div.sk-text-repr-fallback {display: none;}</style><div id=\"sk-container-id-1\" class=\"sk-top-container\"><div class=\"sk-text-repr-fallback\"><pre>SVC()</pre><b>In a Jupyter environment, please rerun this cell to show the HTML representation or trust the notebook. <br />On GitHub, the HTML representation is unable to render, please try loading this page with nbviewer.org.</b></div><div class=\"sk-container\" hidden><div class=\"sk-item\"><div class=\"sk-estimator sk-toggleable\"><input class=\"sk-toggleable__control sk-hidden--visually\" id=\"sk-estimator-id-1\" type=\"checkbox\" checked><label for=\"sk-estimator-id-1\" class=\"sk-toggleable__label sk-toggleable__label-arrow\">SVC</label><div class=\"sk-toggleable__content\"><pre>SVC()</pre></div></div></div></div></div>"
      ],
      "text/plain": [
       "SVC()"
      ]
     },
     "execution_count": 24,
     "metadata": {},
     "output_type": "execute_result"
    }
   ],
   "source": [
    "from sklearn.svm import SVC\n",
    "model = SVC()\n",
    "model.fit(X_train_tfidf, y_train)"
   ]
  },
  {
   "cell_type": "code",
   "execution_count": 25,
   "id": "9b227177",
   "metadata": {},
   "outputs": [],
   "source": [
    "y_pred = model.predict(X_test_tfidf)"
   ]
  },
  {
   "cell_type": "code",
   "execution_count": 26,
   "id": "6817fbe9",
   "metadata": {},
   "outputs": [
    {
     "name": "stdout",
     "output_type": "stream",
     "text": [
      "Accuracy: 0.9068862275449102\n"
     ]
    }
   ],
   "source": [
    "from sklearn.metrics import accuracy_score,classification_report\n",
    "print('Accuracy:',accuracy_score(y_test,y_pred))"
   ]
  },
  {
   "cell_type": "code",
   "execution_count": 27,
   "id": "60027a0d",
   "metadata": {},
   "outputs": [
    {
     "name": "stdout",
     "output_type": "stream",
     "text": [
      "              precision    recall  f1-score   support\n",
      "\n",
      "    Negative       0.89      0.77      0.83      1937\n",
      "    positive       0.91      0.96      0.94      4743\n",
      "\n",
      "    accuracy                           0.91      6680\n",
      "   macro avg       0.90      0.87      0.88      6680\n",
      "weighted avg       0.91      0.91      0.90      6680\n",
      "\n"
     ]
    }
   ],
   "source": [
    "print(classification_report(y_test, y_pred))"
   ]
  },
  {
   "cell_type": "code",
   "execution_count": 28,
   "id": "b97563c3",
   "metadata": {},
   "outputs": [],
   "source": [
    "def predict_sentiment(review):\n",
    "    review_tfidf = vectorizer.transform([review])\n",
    "    sentiment = model.predict(review_tfidf)\n",
    "    return sentiment[0]"
   ]
  },
  {
   "cell_type": "code",
   "execution_count": 29,
   "id": "61f35607",
   "metadata": {},
   "outputs": [
    {
     "name": "stdout",
     "output_type": "stream",
     "text": [
      "Predicted sentiment: positive\n"
     ]
    }
   ],
   "source": [
    "new_review = 'This restaurant has excellent service and delicious food.'\n",
    "predicted_sentiment = predict_sentiment(new_review)\n",
    "print('Predicted sentiment:', predicted_sentiment)"
   ]
  },
  {
   "cell_type": "code",
   "execution_count": null,
   "id": "ccf89c2c",
   "metadata": {},
   "outputs": [],
   "source": [
    "new_review2 = 'This resatuarnt'"
   ]
  }
 ],
 "metadata": {
  "kernelspec": {
   "display_name": "Python 3 (ipykernel)",
   "language": "python",
   "name": "python3"
  },
  "language_info": {
   "codemirror_mode": {
    "name": "ipython",
    "version": 3
   },
   "file_extension": ".py",
   "mimetype": "text/x-python",
   "name": "python",
   "nbconvert_exporter": "python",
   "pygments_lexer": "ipython3",
   "version": "3.9.13"
  }
 },
 "nbformat": 4,
 "nbformat_minor": 5
}
